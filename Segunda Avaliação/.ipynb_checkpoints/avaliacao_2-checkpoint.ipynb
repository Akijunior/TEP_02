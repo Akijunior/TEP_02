{
 "cells": [
  {
   "cell_type": "code",
   "execution_count": 1,
   "metadata": {},
   "outputs": [],
   "source": [
    "# 1ª - \n",
    "# a)\n",
    "#   Nome: Autism-Child-Data.arff\n",
    "#   Descrição: Children screening data for autism suitable for classification and predictive tasks\n",
    "#              Trata-se de um dataset com informações baseadas nas características que segundo espe-\n",
    "#              cialistas são fundamentais para identificação de pessoas dentro do ASD (Autistic Spec-\n",
    "#              trum Disorder) e tem como sua principal funcionalidade mostrar tais situações com base\n",
    "#              nas respostas associadas.\n",
    "#   Volume de dados: 292\n",
    "# b)\n",
    "#   Principais colunas: \n",
    "#      austim: Determinação final se o jovem está ou não dentro do ASD (Autistic Spectrum Disorder)\n",
    "#      Class/ASD: Avalia se o aluno está ou não dentro do espectro ASD.\n",
    "#      Result: Somatório dos resultados das perguntas relacionadas a detecção do TEA. \n",
    "# c)\n",
    "#   Objetivo do dataset: \n",
    "#      Identificar a presença do autismo em jovens por base em perguntas e características\n",
    "#      clinicamente validadas para esse fim. "
   ]
  },
  {
   "cell_type": "code",
   "execution_count": 39,
   "metadata": {},
   "outputs": [
    {
     "data": {
      "text/plain": [
       "A1_Score            object\n",
       "A2_Score            object\n",
       "A3_Score            object\n",
       "A4_Score            object\n",
       "A5_Score            object\n",
       "A6_Score            object\n",
       "A7_Score            object\n",
       "A8_Score            object\n",
       "A9_Score            object\n",
       "A10_Score           object\n",
       "age                float64\n",
       "gender              object\n",
       "ethnicity           object\n",
       "jundice             object\n",
       "austim              object\n",
       "contry_of_res       object\n",
       "used_app_before     object\n",
       "result             float64\n",
       "age_desc            object\n",
       "relation            object\n",
       "Class/ASD           object\n",
       "dtype: object"
      ]
     },
     "execution_count": 39,
     "metadata": {},
     "output_type": "execute_result"
    }
   ],
   "source": [
    "from scipy.io import arff\n",
    "import pandas as pd\n",
    "from sklearn import linear_model\n",
    "from sklearn.naive_bayes import MultinomialNB, BernoulliNB\n",
    "from sklearn.model_selection import train_test_split\n",
    "from sklearn.datasets import make_classification\n",
    "\n",
    "from sklearn.metrics import confusion_matrix, accuracy_score, precision_score, recall_score\n",
    "from sklearn.ensemble import RandomForestClassifier\n",
    "from sklearn.tree import DecisionTreeClassifier\n",
    "from sklearn.naive_bayes import GaussianNB\n",
    "from sklearn import tree\n",
    "\n",
    "import numpy as np\n",
    "from sklearn.linear_model import LinearRegression\n",
    "from sklearn import svm, datasets\n",
    "from sklearn.neighbors import KNeighborsClassifier\n",
    "\n",
    "import matplotlib.pyplot as plt\n",
    "from sklearn.svm import LinearSVC\n",
    "from sklearn.model_selection import cross_val_score\n",
    "from scipy.stats import bayes_mvs\n",
    "\n",
    "\n",
    "data = arff.loadarff('Autism-Child-Data.arff')\n",
    "df = pd.DataFrame(data[0])\n",
    "dfb = df.copy()\n",
    "dfb.drop(dfb.columns[[10, 17]], axis=1, inplace=True)\n",
    "dfb.head(2)\n",
    "for column in dfb.columns:\n",
    "    dfb[column] = dfb[column].str.decode('utf-8') \n",
    "\n",
    "df.update(dfb)\n",
    "df.head(3)\n",
    "df.dtypes"
   ]
  },
  {
   "cell_type": "code",
   "execution_count": 40,
   "metadata": {},
   "outputs": [
    {
     "data": {
      "text/plain": [
       "Index(['A1_Score', 'A2_Score', 'A3_Score', 'A4_Score', 'A5_Score', 'A6_Score',\n",
       "       'A7_Score', 'A8_Score', 'A9_Score', 'A10_Score', 'age', 'gender',\n",
       "       'ethnicity', 'jundice', 'austim', 'contry_of_res', 'used_app_before',\n",
       "       'result', 'age_desc', 'relation', 'Class/ASD'],\n",
       "      dtype='object')"
      ]
     },
     "execution_count": 40,
     "metadata": {},
     "output_type": "execute_result"
    }
   ],
   "source": [
    "df_full = df.copy()\n",
    "df_full.columns\n",
    "# Removidos: 'A1_Score', 'A2_Score', 'A3_Score', 'A4_Score', 'A5_Score', 'A6_Score',\n",
    "#        'A7_Score', 'A8_Score', 'A9_Score', 'A10_Score', 'relation', 'age_desc',"
   ]
  },
  {
   "cell_type": "code",
   "execution_count": 57,
   "metadata": {},
   "outputs": [
    {
     "name": "stdout",
     "output_type": "stream",
     "text": [
      "Coluna: age |Qtd nulos: 0\n",
      "Coluna: gender |Qtd nulos: 0\n",
      "Coluna: ethnicity |Qtd nulos: 0\n",
      "Coluna: jundice |Qtd nulos: 0\n",
      "Coluna: austim |Qtd nulos: 0\n",
      "Coluna: contry_of_res |Qtd nulos: 0\n",
      "Coluna: used_app_before |Qtd nulos: 0\n",
      "Coluna: result |Qtd nulos: 0\n",
      "Coluna: Class/ASD |Qtd nulos: 0\n",
      "Coluna: born_case |Qtd nulos: 0\n"
     ]
    },
    {
     "name": "stderr",
     "output_type": "stream",
     "text": [
      "/usr/local/lib/python3.6/dist-packages/ipykernel_launcher.py:12: SettingWithCopyWarning: \n",
      "A value is trying to be set on a copy of a slice from a DataFrame\n",
      "\n",
      "See the caveats in the documentation: http://pandas.pydata.org/pandas-docs/stable/indexing.html#indexing-view-versus-copy\n",
      "  if sys.path[0] == '':\n"
     ]
    },
    {
     "ename": "KeyError",
     "evalue": "\"['age_desc' 'relation'] not in index\"",
     "output_type": "error",
     "traceback": [
      "\u001b[0;31m---------------------------------------------------------------------------\u001b[0m",
      "\u001b[0;31mKeyError\u001b[0m                                  Traceback (most recent call last)",
      "\u001b[0;32m<ipython-input-57-c956f6711c37>\u001b[0m in \u001b[0;36m<module>\u001b[0;34m\u001b[0m\n\u001b[1;32m     23\u001b[0m b = df[['age', 'gender', 'ethnicity', 'jundice',\n\u001b[1;32m     24\u001b[0m                         \u001b[0;34m'contry_of_res'\u001b[0m\u001b[0;34m,\u001b[0m \u001b[0;34m'used_app_before'\u001b[0m\u001b[0;34m,\u001b[0m \u001b[0;34m'result'\u001b[0m\u001b[0;34m,\u001b[0m \u001b[0;34m'age_desc'\u001b[0m\u001b[0;34m,\u001b[0m \u001b[0;34m'relation'\u001b[0m\u001b[0;34m,\u001b[0m\u001b[0;34m\u001b[0m\u001b[0;34m\u001b[0m\u001b[0m\n\u001b[0;32m---> 25\u001b[0;31m                         'Class/ASD', 'born_case']].copy()\n\u001b[0m\u001b[1;32m     26\u001b[0m \u001b[0;34m\u001b[0m\u001b[0m\n\u001b[1;32m     27\u001b[0m \u001b[0mnames\u001b[0m \u001b[0;34m=\u001b[0m \u001b[0;34m[\u001b[0m\u001b[0mcolumn\u001b[0m \u001b[0;32mfor\u001b[0m \u001b[0mcolumn\u001b[0m \u001b[0;32min\u001b[0m \u001b[0mb\u001b[0m\u001b[0;34m.\u001b[0m\u001b[0mcolumns\u001b[0m\u001b[0;34m]\u001b[0m\u001b[0;34m\u001b[0m\u001b[0;34m\u001b[0m\u001b[0m\n",
      "\u001b[0;32m/usr/local/lib/python3.6/dist-packages/pandas/core/frame.py\u001b[0m in \u001b[0;36m__getitem__\u001b[0;34m(self, key)\u001b[0m\n\u001b[1;32m   2680\u001b[0m         \u001b[0;32mif\u001b[0m \u001b[0misinstance\u001b[0m\u001b[0;34m(\u001b[0m\u001b[0mkey\u001b[0m\u001b[0;34m,\u001b[0m \u001b[0;34m(\u001b[0m\u001b[0mSeries\u001b[0m\u001b[0;34m,\u001b[0m \u001b[0mnp\u001b[0m\u001b[0;34m.\u001b[0m\u001b[0mndarray\u001b[0m\u001b[0;34m,\u001b[0m \u001b[0mIndex\u001b[0m\u001b[0;34m,\u001b[0m \u001b[0mlist\u001b[0m\u001b[0;34m)\u001b[0m\u001b[0;34m)\u001b[0m\u001b[0;34m:\u001b[0m\u001b[0;34m\u001b[0m\u001b[0;34m\u001b[0m\u001b[0m\n\u001b[1;32m   2681\u001b[0m             \u001b[0;31m# either boolean or fancy integer index\u001b[0m\u001b[0;34m\u001b[0m\u001b[0;34m\u001b[0m\u001b[0;34m\u001b[0m\u001b[0m\n\u001b[0;32m-> 2682\u001b[0;31m             \u001b[0;32mreturn\u001b[0m \u001b[0mself\u001b[0m\u001b[0;34m.\u001b[0m\u001b[0m_getitem_array\u001b[0m\u001b[0;34m(\u001b[0m\u001b[0mkey\u001b[0m\u001b[0;34m)\u001b[0m\u001b[0;34m\u001b[0m\u001b[0;34m\u001b[0m\u001b[0m\n\u001b[0m\u001b[1;32m   2683\u001b[0m         \u001b[0;32melif\u001b[0m \u001b[0misinstance\u001b[0m\u001b[0;34m(\u001b[0m\u001b[0mkey\u001b[0m\u001b[0;34m,\u001b[0m \u001b[0mDataFrame\u001b[0m\u001b[0;34m)\u001b[0m\u001b[0;34m:\u001b[0m\u001b[0;34m\u001b[0m\u001b[0;34m\u001b[0m\u001b[0m\n\u001b[1;32m   2684\u001b[0m             \u001b[0;32mreturn\u001b[0m \u001b[0mself\u001b[0m\u001b[0;34m.\u001b[0m\u001b[0m_getitem_frame\u001b[0m\u001b[0;34m(\u001b[0m\u001b[0mkey\u001b[0m\u001b[0;34m)\u001b[0m\u001b[0;34m\u001b[0m\u001b[0;34m\u001b[0m\u001b[0m\n",
      "\u001b[0;32m/usr/local/lib/python3.6/dist-packages/pandas/core/frame.py\u001b[0m in \u001b[0;36m_getitem_array\u001b[0;34m(self, key)\u001b[0m\n\u001b[1;32m   2724\u001b[0m             \u001b[0;32mreturn\u001b[0m \u001b[0mself\u001b[0m\u001b[0;34m.\u001b[0m\u001b[0m_take\u001b[0m\u001b[0;34m(\u001b[0m\u001b[0mindexer\u001b[0m\u001b[0;34m,\u001b[0m \u001b[0maxis\u001b[0m\u001b[0;34m=\u001b[0m\u001b[0;36m0\u001b[0m\u001b[0;34m)\u001b[0m\u001b[0;34m\u001b[0m\u001b[0;34m\u001b[0m\u001b[0m\n\u001b[1;32m   2725\u001b[0m         \u001b[0;32melse\u001b[0m\u001b[0;34m:\u001b[0m\u001b[0;34m\u001b[0m\u001b[0;34m\u001b[0m\u001b[0m\n\u001b[0;32m-> 2726\u001b[0;31m             \u001b[0mindexer\u001b[0m \u001b[0;34m=\u001b[0m \u001b[0mself\u001b[0m\u001b[0;34m.\u001b[0m\u001b[0mloc\u001b[0m\u001b[0;34m.\u001b[0m\u001b[0m_convert_to_indexer\u001b[0m\u001b[0;34m(\u001b[0m\u001b[0mkey\u001b[0m\u001b[0;34m,\u001b[0m \u001b[0maxis\u001b[0m\u001b[0;34m=\u001b[0m\u001b[0;36m1\u001b[0m\u001b[0;34m)\u001b[0m\u001b[0;34m\u001b[0m\u001b[0;34m\u001b[0m\u001b[0m\n\u001b[0m\u001b[1;32m   2727\u001b[0m             \u001b[0;32mreturn\u001b[0m \u001b[0mself\u001b[0m\u001b[0;34m.\u001b[0m\u001b[0m_take\u001b[0m\u001b[0;34m(\u001b[0m\u001b[0mindexer\u001b[0m\u001b[0;34m,\u001b[0m \u001b[0maxis\u001b[0m\u001b[0;34m=\u001b[0m\u001b[0;36m1\u001b[0m\u001b[0;34m)\u001b[0m\u001b[0;34m\u001b[0m\u001b[0;34m\u001b[0m\u001b[0m\n\u001b[1;32m   2728\u001b[0m \u001b[0;34m\u001b[0m\u001b[0m\n",
      "\u001b[0;32m/usr/local/lib/python3.6/dist-packages/pandas/core/indexing.py\u001b[0m in \u001b[0;36m_convert_to_indexer\u001b[0;34m(self, obj, axis, is_setter)\u001b[0m\n\u001b[1;32m   1325\u001b[0m                 \u001b[0;32mif\u001b[0m \u001b[0mmask\u001b[0m\u001b[0;34m.\u001b[0m\u001b[0many\u001b[0m\u001b[0;34m(\u001b[0m\u001b[0;34m)\u001b[0m\u001b[0;34m:\u001b[0m\u001b[0;34m\u001b[0m\u001b[0;34m\u001b[0m\u001b[0m\n\u001b[1;32m   1326\u001b[0m                     raise KeyError('{mask} not in index'\n\u001b[0;32m-> 1327\u001b[0;31m                                    .format(mask=objarr[mask]))\n\u001b[0m\u001b[1;32m   1328\u001b[0m \u001b[0;34m\u001b[0m\u001b[0m\n\u001b[1;32m   1329\u001b[0m                 \u001b[0;32mreturn\u001b[0m \u001b[0mcom\u001b[0m\u001b[0;34m.\u001b[0m\u001b[0m_values_from_object\u001b[0m\u001b[0;34m(\u001b[0m\u001b[0mindexer\u001b[0m\u001b[0;34m)\u001b[0m\u001b[0;34m\u001b[0m\u001b[0;34m\u001b[0m\u001b[0m\n",
      "\u001b[0;31mKeyError\u001b[0m: \"['age_desc' 'relation'] not in index\""
     ]
    }
   ],
   "source": [
    "# 2ª Questão\n",
    "# a) Tipo das colunas\n",
    "df.dtypes\n",
    "# b) Campos nulos\n",
    "for field in df.columns:\n",
    "    print('Coluna:', field,'|Qtd nulos:', df[field].isnull().sum())\n",
    "# c) Variáveis categóricas\n",
    "# d) Campos novos criados com justificativa\n",
    "df['born_case'] = 1\n",
    "for i in range(len(df['Class/ASD'])):\n",
    "    df['born_case'][i] = 'yes' if (df['jundice'][i].lower() == 'yes'\\\n",
    "                                   and df['Class/ASD'][i].lower() == 'yes') else 'no'\n",
    "# Novo campo: born_case.\n",
    "# Razão: análise de caso de nascimento com icteria do jovem e se algum parente dele foi anteriormente\n",
    "# Diagnósticado com desordem de desenvolvimento pervasivo, o que pode aumentar as chances do jovem ser propenso\n",
    "# a o TEA.\n",
    "# e) Campos descartados com justificativa\n",
    "# Campos retirados: \n",
    "#      Scores. Razão: Importância final deles para este cenário se baseia no result.\n",
    "#      age_desc. Razão: Todos os dados coletados são de jovens na faixa de 4 a 11 anos,\n",
    "#      sendo a única existente na coluna do dataset.\n",
    "\n",
    "b = df[['age', 'gender', 'ethnicity', 'jundice',\n",
    "                        'contry_of_res', 'used_app_before', 'result', 'age_desc', 'relation',\n",
    "                        'Class/ASD', 'born_case']].copy()\n",
    "\n",
    "names = [column for column in b.columns]\n",
    "\n",
    "media = b['age'][b['age'] > 0].mean()\n",
    "b.loc[b['age'].isnull(), 'age'] = int(media)\n",
    "\n",
    "df = b.copy()\n",
    "\n",
    "b['age'] = b['age'].map({4:0, 5:0, 6:0, 7:0, 8:1, 9:1, 10:1, 11:1})\n",
    "b['result'] = b['result'].map({0:0, 1:0, 2:0, 3:0, 4:0, 5:1, 6:1, 7:1, 8:1, 9:1, 10:1})\n",
    "b['gender'] = b['gender'].map({'m':0, 'f':1})\n",
    "b['jundice'] = b['jundice'].map({'no':0, 'yes':1})\n",
    "b['austim'] = b['austim'].map({'no':0, 'yes':1})\n",
    "b['used_app_before'] = b['used_app_before'].map({'no':0, 'yes':1})\n",
    "b['Class/ASD'] = b['Class/ASD'].map({'NO':0, 'YES':1})\n",
    "b['born_case'] = b['born_case'].map({'no':0, 'yes':1})"
   ]
  },
  {
   "cell_type": "code",
   "execution_count": 58,
   "metadata": {},
   "outputs": [
    {
     "ename": "ValueError",
     "evalue": "Unable to parse string \"Others\" at position 0",
     "output_type": "error",
     "traceback": [
      "\u001b[0;31m---------------------------------------------------------------------------\u001b[0m",
      "\u001b[0;31mValueError\u001b[0m                                Traceback (most recent call last)",
      "\u001b[0;32mpandas/_libs/src/inference.pyx\u001b[0m in \u001b[0;36mpandas._libs.lib.maybe_convert_numeric\u001b[0;34m()\u001b[0m\n",
      "\u001b[0;31mValueError\u001b[0m: Unable to parse string \"Others\"",
      "\nDuring handling of the above exception, another exception occurred:\n",
      "\u001b[0;31mValueError\u001b[0m                                Traceback (most recent call last)",
      "\u001b[0;32m<ipython-input-58-67e729d8cf0d>\u001b[0m in \u001b[0;36m<module>\u001b[0;34m\u001b[0m\n\u001b[1;32m      2\u001b[0m \u001b[0mcont\u001b[0m \u001b[0;34m=\u001b[0m \u001b[0;36m1\u001b[0m\u001b[0;34m\u001b[0m\u001b[0;34m\u001b[0m\u001b[0m\n\u001b[1;32m      3\u001b[0m \u001b[0;32mfor\u001b[0m \u001b[0mcolumn\u001b[0m \u001b[0;32min\u001b[0m \u001b[0mb\u001b[0m\u001b[0;34m.\u001b[0m\u001b[0mcolumns\u001b[0m\u001b[0;34m:\u001b[0m\u001b[0;34m\u001b[0m\u001b[0;34m\u001b[0m\u001b[0m\n\u001b[0;32m----> 4\u001b[0;31m     \u001b[0mb\u001b[0m\u001b[0;34m[\u001b[0m\u001b[0mcolumn\u001b[0m\u001b[0;34m]\u001b[0m \u001b[0;34m=\u001b[0m \u001b[0mpd\u001b[0m\u001b[0;34m.\u001b[0m\u001b[0mto_numeric\u001b[0m\u001b[0;34m(\u001b[0m\u001b[0mb\u001b[0m\u001b[0;34m[\u001b[0m\u001b[0mcolumn\u001b[0m\u001b[0;34m]\u001b[0m\u001b[0;34m)\u001b[0m\u001b[0;34m\u001b[0m\u001b[0;34m\u001b[0m\u001b[0m\n\u001b[0m\u001b[1;32m      5\u001b[0m     \u001b[0mcont\u001b[0m \u001b[0;34m+=\u001b[0m \u001b[0;36m1\u001b[0m\u001b[0;34m\u001b[0m\u001b[0;34m\u001b[0m\u001b[0m\n\u001b[1;32m      6\u001b[0m     \u001b[0;32mif\u001b[0m \u001b[0;34m(\u001b[0m\u001b[0mcont\u001b[0m \u001b[0;34m==\u001b[0m \u001b[0;36m10\u001b[0m\u001b[0;34m)\u001b[0m\u001b[0;34m:\u001b[0m\u001b[0;34m\u001b[0m\u001b[0;34m\u001b[0m\u001b[0m\n",
      "\u001b[0;32m/usr/local/lib/python3.6/dist-packages/pandas/core/tools/numeric.py\u001b[0m in \u001b[0;36mto_numeric\u001b[0;34m(arg, errors, downcast)\u001b[0m\n\u001b[1;32m    131\u001b[0m             \u001b[0mcoerce_numeric\u001b[0m \u001b[0;34m=\u001b[0m \u001b[0;32mFalse\u001b[0m \u001b[0;32mif\u001b[0m \u001b[0merrors\u001b[0m \u001b[0;32min\u001b[0m \u001b[0;34m(\u001b[0m\u001b[0;34m'ignore'\u001b[0m\u001b[0;34m,\u001b[0m \u001b[0;34m'raise'\u001b[0m\u001b[0;34m)\u001b[0m \u001b[0;32melse\u001b[0m \u001b[0;32mTrue\u001b[0m\u001b[0;34m\u001b[0m\u001b[0;34m\u001b[0m\u001b[0m\n\u001b[1;32m    132\u001b[0m             values = lib.maybe_convert_numeric(values, set(),\n\u001b[0;32m--> 133\u001b[0;31m                                                coerce_numeric=coerce_numeric)\n\u001b[0m\u001b[1;32m    134\u001b[0m \u001b[0;34m\u001b[0m\u001b[0m\n\u001b[1;32m    135\u001b[0m     \u001b[0;32mexcept\u001b[0m \u001b[0mException\u001b[0m\u001b[0;34m:\u001b[0m\u001b[0;34m\u001b[0m\u001b[0;34m\u001b[0m\u001b[0m\n",
      "\u001b[0;32mpandas/_libs/src/inference.pyx\u001b[0m in \u001b[0;36mpandas._libs.lib.maybe_convert_numeric\u001b[0;34m()\u001b[0m\n",
      "\u001b[0;31mValueError\u001b[0m: Unable to parse string \"Others\" at position 0"
     ]
    }
   ],
   "source": [
    "# f) Conversões entre tipos de colunas\n",
    "cont = 1\n",
    "for column in b.columns:\n",
    "    b[column] = pd.to_numeric(b[column])\n",
    "    cont += 1\n",
    "    if (cont == 10):\n",
    "        break\n",
    "print(b.dtypes)\n",
    "# g) Técnica de análise não apresentada em sala\n",
    "x, y = b[['age', 'gender', 'jundice', 'used_app_before', 'result', 'Class/ASD', 'born_case']], b['austim']\n",
    "xb, yb = df[['age', 'gender', 'jundice', 'used_app_before', 'result', 'Class/ASD', 'born_case']], df['austim']\n",
    "xb = pd.get_dummies(xb)\n",
    "yb = pd.get_dummies(yb)\n",
    "x_treino, x_teste, y_treino, y_teste = train_test_split(x, y, test_size=0.25, random_state=0)\n",
    "x_train, x_test, y_train, y_test = train_test_split(xb, yb, test_size=0.25, random_state=0)\n",
    "\n",
    "tr = DecisionTreeClassifier()\n",
    "tr.fit(x_treino, y_treino)\n",
    "print(\"Resultado com binários: \", tr.score(x_teste, y_teste))\n",
    "tr.fit(x_train, y_train)\n",
    "print(\"Resultado com dummies: \", tr.score(x_test, y_test))\n",
    "\n",
    "modelot = DecisionTreeClassifier(criterion='gini')\n",
    "modelot.fit(x_treino, y_treino)\n",
    "print(\"Resultado com binários: \", modelot.score(x_teste, y_teste))\n",
    "modelot.fit(x_train, y_train)\n",
    "print(\"Resultado com dummies: \", modelot.score(x_test, y_test))\n",
    "\n",
    "modelog = GaussianNB()\n",
    "modelog.fit(x_treino, y_treino)\n",
    "print(\"Resultado com binários: \", modelog.score(x_teste, y_teste))\n",
    "# modelog.fit(x_train, y_train)\n",
    "# print(\"Resultado com dummies: \", modelog.score(x_test, y_test))\n",
    "\n",
    "modelom = MultinomialNB()\n",
    "modelom.fit(x_treino, y_treino)\n",
    "print(\"Resultado com binários: \", modelom.score(x_teste, y_teste))\n",
    "# modelom.fit(x_train, y_train)\n",
    "# print(\"Resultado com dummies: \", modelom.score(x_test, y_test))\n",
    "\n",
    "modelob = BernoulliNB()\n",
    "modelob.fit(x_treino, y_treino)\n",
    "print(\"Resultado com binários: \", modelob.score(x_teste, y_teste))\n",
    "\n",
    "# pd.value_counts(df['age'])"
   ]
  },
  {
   "cell_type": "code",
   "execution_count": null,
   "metadata": {},
   "outputs": [],
   "source": []
  },
  {
   "cell_type": "code",
   "execution_count": 5,
   "metadata": {},
   "outputs": [
    {
     "data": {
      "image/png": "[encoded data removed]",
      "text/plain": [
       "<Figure size 432x288 with 1 Axes>"
      ]
     },
     "metadata": {
      "needs_background": "light"
     },
     "output_type": "display_data"
    },
    {
     "data": {
      "text/plain": [
       "{'whiskers': [<matplotlib.lines.Line2D at 0x7fdfbe5c24e0>,\n",
       "  <matplotlib.lines.Line2D at 0x7fdfbe5c2828>],\n",
       " 'caps': [<matplotlib.lines.Line2D at 0x7fdfbe5c2b70>,\n",
       "  <matplotlib.lines.Line2D at 0x7fdfbe5c2eb8>],\n",
       " 'boxes': [<matplotlib.lines.Line2D at 0x7fdfbe5c2390>],\n",
       " 'medians': [<matplotlib.lines.Line2D at 0x7fdfbe5ce240>],\n",
       " 'fliers': [<matplotlib.lines.Line2D at 0x7fdfbe5ce588>],\n",
       " 'means': []}"
      ]
     },
     "execution_count": 5,
     "metadata": {},
     "output_type": "execute_result"
    },
    {
     "data": {
      "image/png": "[encoded data removed]",
      "text/plain": [
       "<Figure size 432x288 with 1 Axes>"
      ]
     },
     "metadata": {
      "needs_background": "light"
     },
     "output_type": "display_data"
    }
   ],
   "source": [
    "# h) Analise, com APIs específicas, pelo menos 3 características relevantes do\n",
    "#    dataset e exiba gráficos a respeito\n",
    "df['age'].hist()\n",
    "plt.show()\n",
    "df_age = df['age'].dropna()\n",
    "plt.boxplot(df_age, showfliers= True)"
   ]
  },
  {
   "cell_type": "code",
   "execution_count": null,
   "metadata": {},
   "outputs": [],
   "source": []
  },
  {
   "cell_type": "code",
   "execution_count": 6,
   "metadata": {},
   "outputs": [
    {
     "data": {
      "image/png": "[encoded data removed]",
      "text/plain": [
       "<Figure size 432x288 with 1 Axes>"
      ]
     },
     "metadata": {
      "needs_background": "light"
     },
     "output_type": "display_data"
    },
    {
     "data": {
      "text/plain": [
       "{'whiskers': [<matplotlib.lines.Line2D at 0x7fdfbe51b828>,\n",
       "  <matplotlib.lines.Line2D at 0x7fdfbe51bb70>],\n",
       " 'caps': [<matplotlib.lines.Line2D at 0x7fdfbe51beb8>,\n",
       "  <matplotlib.lines.Line2D at 0x7fdfbe522240>],\n",
       " 'boxes': [<matplotlib.lines.Line2D at 0x7fdfbe51b6d8>],\n",
       " 'medians': [<matplotlib.lines.Line2D at 0x7fdfbe522588>],\n",
       " 'fliers': [<matplotlib.lines.Line2D at 0x7fdfbe5228d0>],\n",
       " 'means': []}"
      ]
     },
     "execution_count": 6,
     "metadata": {},
     "output_type": "execute_result"
    },
    {
     "data": {
      "image/png": "[encoded data removed]",
      "text/plain": [
       "<Figure size 432x288 with 1 Axes>"
      ]
     },
     "metadata": {
      "needs_background": "light"
     },
     "output_type": "display_data"
    }
   ],
   "source": [
    "df['result'].hist()\n",
    "plt.show()\n",
    "\n",
    "df_result = df['result'].dropna()\n",
    "plt.boxplot(df_result, showfliers= True)"
   ]
  },
  {
   "cell_type": "code",
   "execution_count": 44,
   "metadata": {},
   "outputs": [
    {
     "data": {
      "image/png": "[encoded data removed]",
      "text/plain": [
       "<Figure size 432x288 with 1 Axes>"
      ]
     },
     "metadata": {
      "needs_background": "light"
     },
     "output_type": "display_data"
    }
   ],
   "source": [
    "data = df['result']\n",
    "data.plot(kind='density', subplots=True, layout=(1,1), sharex=False)\n",
    "plt.show()"
   ]
  },
  {
   "cell_type": "code",
   "execution_count": 59,
   "metadata": {},
   "outputs": [
    {
     "data": {
      "image/png": "[encoded data removed]",
      "text/plain": [
       "<Figure size 432x288 with 1 Axes>"
      ]
     },
     "metadata": {
      "needs_background": "light"
     },
     "output_type": "display_data"
    },
    {
     "name": "stdout",
     "output_type": "stream",
     "text": [
      "Jovens identificados com/sem Autismo\n"
     ]
    },
    {
     "data": {
      "image/png": "[encoded data removed]",
      "text/plain": [
       "<Figure size 432x288 with 1 Axes>"
      ]
     },
     "metadata": {},
     "output_type": "display_data"
    }
   ],
   "source": [
    "b['austim'].hist()\n",
    "plt.show()\n",
    "\n",
    "austim = b[b['austim'] == 1]['austim'].count()\n",
    "no_austim = b[b['austim'] == 0]['austim'].count()\n",
    "\n",
    "labels = ('Indentificados com Autismo (%s)' % austim, 'Identificados sem Autismo (%s)' % no_austim)\n",
    "sizes = [austim, no_austim]\n",
    "colors = ['red', 'blue']\n",
    "\n",
    "# Plot\n",
    "plt.pie(sizes, labels=labels, colors=colors,\n",
    "autopct='%1.1f%%', shadow=True, startangle=10)\n",
    "print(\"Jovens identificados com/sem Autismo\")\n",
    "plt.axis('equal')\n",
    "plt.show()"
   ]
  },
  {
   "cell_type": "code",
   "execution_count": 65,
   "metadata": {
    "scrolled": true
   },
   "outputs": [
    {
     "name": "stdout",
     "output_type": "stream",
     "text": [
      "DecisionTreeClassifier - Resultado com binários:  0.8356164383561644\n",
      "DecisionTreeClassifier - Resultado com dummies limitados:  0.8082191780821918\n",
      "DecisionTreeClassifier - Resultado com todos dummies:  0.7671232876712328\n",
      "\n",
      "DecisionTreeClassifier (gini) - Resultado com binários:  0.8356164383561644\n",
      "DecisionTreeClassifier (gini) - Resultado com dummies:  0.8082191780821918\n",
      "DecisionTreeClassifier (gini) - Resultado com todos dummies:  0.821917808219178\n",
      "\n",
      "Gaussian - Resultado com binários:  0.1917808219178082\n",
      "\n",
      "Multinomial - Resultado com binários:  0.8356164383561644\n",
      "\n",
      "Bernoulli - Resultado com binários:  0.8356164383561644\n",
      "\n",
      "LinearSVC - Resultado com binários:  0.8356164383561644\n",
      "\n",
      "DecisionTreeClassifier s/ gini\n",
      "Media de acerto: 0.78770\n",
      "Desvio padrão: 0.01941\n",
      "Variância: 0.13443\n",
      "\n",
      "DecisionTreeClassifier c/ gini\n",
      "Media de acerto: 0.78770\n",
      "Desvio padrão: 0.01941\n",
      "Variância: 0.13443\n",
      "\n",
      "Gaussian\n",
      "Media de acerto: 0.19008\n",
      "Desvio padrão: 0.00519\n",
      "Variância: 0.06949\n",
      "\n",
      "Multinomial\n",
      "Media de acerto: 0.83849\n",
      "Desvio padrão: 0.00204\n",
      "Variância: 0.04362\n",
      "\n",
      "Bernoulli\n",
      "Media de acerto: 0.83849\n",
      "Desvio padrão: 0.00204\n",
      "Variância: 0.04362\n",
      "\n",
      "LinearSVC\n",
      "Media de acerto: 0.83849\n",
      "Desvio padrão: 0.00204\n",
      "Variância: 0.04362\n",
      "\n"
     ]
    }
   ],
   "source": [
    "# 3ª) - \n",
    "# a. Listagem dos algoritmos aplicáveis;\n",
    "media = df_full['age'][df_full['age'] > 0].mean()\n",
    "df_full.loc[df_full['age'].isnull(), 'age'] = int(media)\n",
    "\n",
    "x, y = b[['age', 'gender', 'jundice', 'used_app_before', 'result', 'Class/ASD']], b['austim']\n",
    "xb, yb = b[['age', 'gender', 'jundice', 'result']], b['austim']\n",
    "\n",
    "xfull = df_full[['A1_Score', 'A2_Score', 'A3_Score', 'A4_Score', 'A5_Score', 'A6_Score',\n",
    "       'A7_Score', 'A8_Score', 'A9_Score', 'A10_Score', 'age', 'gender', 'ethnicity', 'jundice',\n",
    "                        'contry_of_res', 'used_app_before', 'result', 'age_desc', 'relation',\n",
    "                        'Class/ASD']]\n",
    "yfull = df_full['austim']\n",
    "xfull = pd.get_dummies(xfull)\n",
    "yfull = pd.get_dummies(yfull)\n",
    "\n",
    "xb = pd.get_dummies(xb)\n",
    "yb = pd.get_dummies(yb)\n",
    "\n",
    "x_treino, x_teste, y_treino, y_teste = train_test_split(x, y, test_size=0.25, random_state=0)\n",
    "x_train, x_test, y_train, y_test = train_test_split(xb, yb, test_size=0.25, random_state=0)\n",
    "x_tr, x_te, y_tr, y_te = train_test_split(xfull, yfull, test_size=0.25, random_state=0)\n",
    "\n",
    "tr = DecisionTreeClassifier()\n",
    "tr.fit(x_treino, y_treino)\n",
    "print(\"DecisionTreeClassifier - Resultado com binários: \", tr.score(x_teste, y_teste))\n",
    "tr.fit(x_train, y_train)\n",
    "print(\"DecisionTreeClassifier - Resultado com dummies limitados: \", tr.score(x_test, y_test))\n",
    "tr.fit(x_tr, y_tr)\n",
    "print(\"DecisionTreeClassifier - Resultado com todos dummies: \", tr.score(x_te, y_te))\n",
    "\n",
    "modelot = DecisionTreeClassifier(criterion='gini')\n",
    "modelot.fit(x_treino, y_treino)\n",
    "print(\"\\nDecisionTreeClassifier (gini) - Resultado com binários: \", modelot.score(x_teste, y_teste))\n",
    "modelot.fit(x_train, y_train)\n",
    "print(\"DecisionTreeClassifier (gini) - Resultado com dummies: \", modelot.score(x_test, y_test))\n",
    "modelot.fit(x_tr, y_tr)\n",
    "print(\"DecisionTreeClassifier (gini) - Resultado com todos dummies: \", modelot.score(x_te, y_te))\n",
    "\n",
    "modelog = GaussianNB()\n",
    "modelog.fit(x_treino, y_treino)\n",
    "print(\"\\nGaussian - Resultado com binários: \", modelog.score(x_teste, y_teste))\n",
    "# X_train = np.argmax(x_train, axis=1)\n",
    "# Y_train = np.argmax(y_train, axis=1)\n",
    "# modelog.fit(X_train, Y_train)\n",
    "\n",
    "# print(\"Resultado com dummies: \", modelog.score(x_test, y_test))\n",
    "\n",
    "modelom = MultinomialNB()\n",
    "modelom.fit(x_treino, y_treino)\n",
    "print(\"\\nMultinomial - Resultado com binários: \", modelom.score(x_teste, y_teste))\n",
    "# modelom.fit(x_train, y_train)\n",
    "# print(\"Resultado com dummies: \", modelom.score(x_test, y_test))\n",
    "\n",
    "# b. Escolha pelo menos um algoritmo ainda não visto na disciplina e justifique o seu uso.\n",
    "# Algoritmo - BernoulliNB. \n",
    "# Razão do uso - Como o MultinomialNB, esse classificador é adequado para dados discretos. \n",
    "# A diferença é que, enquanto o MultinomialNB trabalha com contagens de ocorrências, \n",
    "# o BernoulliNB é projetado para recursos binários / booleanos. \n",
    "\n",
    "modelob = BernoulliNB()\n",
    "modelob.fit(x_treino, y_treino)\n",
    "print(\"\\nBernoulli - Resultado com binários: \", modelob.score(x_teste, y_teste))\n",
    "\n",
    "clf = LinearSVC(random_state=0, tol=1e-5)\n",
    "clf.fit(x_treino, y_treino)\n",
    "LinearSVC(C=1.0, class_weight=None, dual=True, fit_intercept=True,\\\n",
    "     intercept_scaling=1, loss='squared_hinge', max_iter=1000,\\\n",
    "     multi_class='ovr', penalty='l2', random_state=0, tol=1e-05, verbose=0)\n",
    "\n",
    "print(\"\\nLinearSVC - Resultado com binários: \", clf.score(x_teste, y_teste))\n",
    "\n",
    "# c. Configuração/parametrização dos algoritmos\n",
    "\n",
    "# d. Uso de k-folding\n",
    "\n",
    "k = 10\n",
    "\n",
    "scores_modelot = cross_val_score(modelot, x_teste, y_teste, cv = k)\n",
    "scores_modelog = cross_val_score(modelog, x_teste, y_teste, cv = k)\n",
    "scores_modelom = cross_val_score(modelom, x_teste, y_teste, cv = k)\n",
    "scores_modelob = cross_val_score(modelob, x_teste, y_teste, cv = k)\n",
    "scores_tr = cross_val_score(tr, x_teste, y_teste, cv = k)\n",
    "scores_clf = cross_val_score(clf, x_teste, y_teste, cv = k)\n",
    "\n",
    "print(\"\\nDecisionTreeClassifier s/ gini\")\n",
    "taxa_de_acerto = np.mean(scores_tr)\n",
    "media_tr, des_tr, var_tr  = bayes_mvs(scores_tr, 0.95)\n",
    "print(\"Media de acerto: %.5f\" % media_tr[0])\n",
    "print(\"Desvio padrão: %.5f\" % des_tr[0])\n",
    "print(\"Variância: %.5f\\n\" % var_tr[0])\n",
    "\n",
    "print(\"DecisionTreeClassifier c/ gini\")\n",
    "taxa_de_acerto = np.mean(scores_modelot)\n",
    "media_tr, des_tr, var_tr  = bayes_mvs(scores_modelot, 0.95)\n",
    "print(\"Media de acerto: %.5f\" % media_tr[0])\n",
    "print(\"Desvio padrão: %.5f\" % des_tr[0])\n",
    "print(\"Variância: %.5f\\n\" % var_tr[0])\n",
    "\n",
    "print(\"Gaussian\")\n",
    "taxa_de_acerto = np.mean(scores_modelog)\n",
    "media_tr, des_tr, var_tr  = bayes_mvs(scores_modelog, 0.95)\n",
    "print(\"Media de acerto: %.5f\" % media_tr[0])\n",
    "print(\"Desvio padrão: %.5f\" % des_tr[0])\n",
    "print(\"Variância: %.5f\\n\" % var_tr[0])\n",
    "\n",
    "print(\"Multinomial\")\n",
    "taxa_de_acerto = np.mean(scores_modelom)\n",
    "media_tr, des_tr, var_tr  = bayes_mvs(scores_modelom, 0.95)\n",
    "print(\"Media de acerto: %.5f\" % media_tr[0])\n",
    "print(\"Desvio padrão: %.5f\" % des_tr[0])\n",
    "print(\"Variância: %.5f\\n\" % var_tr[0])\n",
    "\n",
    "print(\"Bernoulli\")\n",
    "taxa_de_acerto = np.mean(scores_modelob)\n",
    "media_tr, des_tr, var_tr  = bayes_mvs(scores_modelob, 0.95)\n",
    "print(\"Media de acerto: %.5f\" % media_tr[0])\n",
    "print(\"Desvio padrão: %.5f\" % des_tr[0])\n",
    "print(\"Variância: %.5f\\n\" % var_tr[0])\n",
    "\n",
    "print(\"LinearSVC\")\n",
    "taxa_de_acerto = np.mean(scores_clf)\n",
    "media_tr, des_tr, var_tr  = bayes_mvs(scores_clf, 0.95)\n",
    "print(\"Media de acerto: %.5f\" % media_tr[0])\n",
    "print(\"Desvio padrão: %.5f\" % des_tr[0])\n",
    "print(\"Variância: %.5f\\n\" % var_tr[0])\n",
    "\n",
    "\n"
   ]
  },
  {
   "cell_type": "code",
   "execution_count": null,
   "metadata": {},
   "outputs": [],
   "source": []
  },
  {
   "cell_type": "code",
   "execution_count": 54,
   "metadata": {},
   "outputs": [
    {
     "ename": "ValueError",
     "evalue": "Number of features of the model must match the input. Model n_features is 100 and input n_features is 7 ",
     "output_type": "error",
     "traceback": [
      "\u001b[0;31m---------------------------------------------------------------------------\u001b[0m",
      "\u001b[0;31mValueError\u001b[0m                                Traceback (most recent call last)",
      "\u001b[0;32m<ipython-input-54-86b42eb525fb>\u001b[0m in \u001b[0;36m<module>\u001b[0;34m\u001b[0m\n\u001b[1;32m     10\u001b[0m \u001b[0mscores_clf\u001b[0m \u001b[0;34m=\u001b[0m \u001b[0mcross_val_score\u001b[0m\u001b[0;34m(\u001b[0m\u001b[0mclf\u001b[0m\u001b[0;34m,\u001b[0m \u001b[0mx_teste\u001b[0m\u001b[0;34m,\u001b[0m \u001b[0my_teste\u001b[0m\u001b[0;34m,\u001b[0m \u001b[0mcv\u001b[0m \u001b[0;34m=\u001b[0m \u001b[0mk\u001b[0m\u001b[0;34m)\u001b[0m\u001b[0;34m\u001b[0m\u001b[0;34m\u001b[0m\u001b[0m\n\u001b[1;32m     11\u001b[0m \u001b[0;34m\u001b[0m\u001b[0m\n\u001b[0;32m---> 12\u001b[0;31m \u001b[0mprint\u001b[0m\u001b[0;34m(\u001b[0m\u001b[0mpd\u001b[0m\u001b[0;34m.\u001b[0m\u001b[0mcrosstab\u001b[0m\u001b[0;34m(\u001b[0m\u001b[0my_teste\u001b[0m\u001b[0;34m,\u001b[0m \u001b[0mtr\u001b[0m\u001b[0;34m.\u001b[0m\u001b[0mpredict\u001b[0m\u001b[0;34m(\u001b[0m\u001b[0mx_teste\u001b[0m\u001b[0;34m)\u001b[0m\u001b[0;34m,\u001b[0m \u001b[0mrownames\u001b[0m\u001b[0;34m=\u001b[0m\u001b[0;34m[\u001b[0m\u001b[0;34m'Real'\u001b[0m\u001b[0;34m]\u001b[0m\u001b[0;34m,\u001b[0m \u001b[0mcolnames\u001b[0m\u001b[0;34m=\u001b[0m\u001b[0;34m[\u001b[0m\u001b[0;34m'DTC s/ gini'\u001b[0m\u001b[0;34m]\u001b[0m\u001b[0;34m,\u001b[0m \u001b[0mmargins\u001b[0m\u001b[0;34m=\u001b[0m\u001b[0;32mTrue\u001b[0m\u001b[0;34m)\u001b[0m\u001b[0;34m)\u001b[0m\u001b[0;34m\u001b[0m\u001b[0;34m\u001b[0m\u001b[0m\n\u001b[0m\u001b[1;32m     13\u001b[0m \u001b[0mprint\u001b[0m\u001b[0;34m(\u001b[0m\u001b[0;34m\"\\n\"\u001b[0m\u001b[0;34m)\u001b[0m\u001b[0;34m\u001b[0m\u001b[0;34m\u001b[0m\u001b[0m\n\u001b[1;32m     14\u001b[0m \u001b[0mprint\u001b[0m\u001b[0;34m(\u001b[0m\u001b[0mpd\u001b[0m\u001b[0;34m.\u001b[0m\u001b[0mcrosstab\u001b[0m\u001b[0;34m(\u001b[0m\u001b[0my_teste\u001b[0m\u001b[0;34m,\u001b[0m \u001b[0mmodelog\u001b[0m\u001b[0;34m.\u001b[0m\u001b[0mpredict\u001b[0m\u001b[0;34m(\u001b[0m\u001b[0mx_teste\u001b[0m\u001b[0;34m)\u001b[0m\u001b[0;34m,\u001b[0m \u001b[0mrownames\u001b[0m\u001b[0;34m=\u001b[0m\u001b[0;34m[\u001b[0m\u001b[0;34m'Real'\u001b[0m\u001b[0;34m]\u001b[0m\u001b[0;34m,\u001b[0m \u001b[0mcolnames\u001b[0m\u001b[0;34m=\u001b[0m\u001b[0;34m[\u001b[0m\u001b[0;34m'DTC c/ gini'\u001b[0m\u001b[0;34m]\u001b[0m\u001b[0;34m,\u001b[0m \u001b[0mmargins\u001b[0m\u001b[0;34m=\u001b[0m\u001b[0;32mTrue\u001b[0m\u001b[0;34m)\u001b[0m\u001b[0;34m)\u001b[0m\u001b[0;34m\u001b[0m\u001b[0;34m\u001b[0m\u001b[0m\n",
      "\u001b[0;32m/usr/local/lib/python3.6/dist-packages/sklearn/tree/tree.py\u001b[0m in \u001b[0;36mpredict\u001b[0;34m(self, X, check_input)\u001b[0m\n\u001b[1;32m    413\u001b[0m         \"\"\"\n\u001b[1;32m    414\u001b[0m         \u001b[0mcheck_is_fitted\u001b[0m\u001b[0;34m(\u001b[0m\u001b[0mself\u001b[0m\u001b[0;34m,\u001b[0m \u001b[0;34m'tree_'\u001b[0m\u001b[0;34m)\u001b[0m\u001b[0;34m\u001b[0m\u001b[0;34m\u001b[0m\u001b[0m\n\u001b[0;32m--> 415\u001b[0;31m         \u001b[0mX\u001b[0m \u001b[0;34m=\u001b[0m \u001b[0mself\u001b[0m\u001b[0;34m.\u001b[0m\u001b[0m_validate_X_predict\u001b[0m\u001b[0;34m(\u001b[0m\u001b[0mX\u001b[0m\u001b[0;34m,\u001b[0m \u001b[0mcheck_input\u001b[0m\u001b[0;34m)\u001b[0m\u001b[0;34m\u001b[0m\u001b[0;34m\u001b[0m\u001b[0m\n\u001b[0m\u001b[1;32m    416\u001b[0m         \u001b[0mproba\u001b[0m \u001b[0;34m=\u001b[0m \u001b[0mself\u001b[0m\u001b[0;34m.\u001b[0m\u001b[0mtree_\u001b[0m\u001b[0;34m.\u001b[0m\u001b[0mpredict\u001b[0m\u001b[0;34m(\u001b[0m\u001b[0mX\u001b[0m\u001b[0;34m)\u001b[0m\u001b[0;34m\u001b[0m\u001b[0;34m\u001b[0m\u001b[0m\n\u001b[1;32m    417\u001b[0m         \u001b[0mn_samples\u001b[0m \u001b[0;34m=\u001b[0m \u001b[0mX\u001b[0m\u001b[0;34m.\u001b[0m\u001b[0mshape\u001b[0m\u001b[0;34m[\u001b[0m\u001b[0;36m0\u001b[0m\u001b[0;34m]\u001b[0m\u001b[0;34m\u001b[0m\u001b[0;34m\u001b[0m\u001b[0m\n",
      "\u001b[0;32m/usr/local/lib/python3.6/dist-packages/sklearn/tree/tree.py\u001b[0m in \u001b[0;36m_validate_X_predict\u001b[0;34m(self, X, check_input)\u001b[0m\n\u001b[1;32m    385\u001b[0m                              \u001b[0;34m\"match the input. Model n_features is %s and \"\u001b[0m\u001b[0;34m\u001b[0m\u001b[0;34m\u001b[0m\u001b[0m\n\u001b[1;32m    386\u001b[0m                              \u001b[0;34m\"input n_features is %s \"\u001b[0m\u001b[0;34m\u001b[0m\u001b[0;34m\u001b[0m\u001b[0m\n\u001b[0;32m--> 387\u001b[0;31m                              % (self.n_features_, n_features))\n\u001b[0m\u001b[1;32m    388\u001b[0m \u001b[0;34m\u001b[0m\u001b[0m\n\u001b[1;32m    389\u001b[0m         \u001b[0;32mreturn\u001b[0m \u001b[0mX\u001b[0m\u001b[0;34m\u001b[0m\u001b[0;34m\u001b[0m\u001b[0m\n",
      "\u001b[0;31mValueError\u001b[0m: Number of features of the model must match the input. Model n_features is 100 and input n_features is 7 "
     ]
    }
   ],
   "source": [
    "# 4ª) - \n",
    "# a. Crie gráficos para comparar a performance dos algoritmos;\n",
    "\n",
    "# b. Exiba a matriz de confusão dos resultados;\n",
    "scores_modelot = cross_val_score(modelot, x_teste, y_teste, cv = k)\n",
    "scores_modelog = cross_val_score(modelog, x_teste, y_teste, cv = k)\n",
    "scores_modelom = cross_val_score(modelom, x_teste, y_teste, cv = k)\n",
    "scores_modelob = cross_val_score(modelob, x_teste, y_teste, cv = k)\n",
    "scores_tr = cross_val_score(tr, x_teste, y_teste, cv = k)\n",
    "scores_clf = cross_val_score(clf, x_teste, y_teste, cv = k)\n",
    "\n",
    "print(pd.crosstab(y_teste, tr.predict(x_teste), rownames=['Real'], colnames=['DTC s/ gini'], margins=True))\n",
    "print(\"\\n\")\n",
    "print(pd.crosstab(y_teste, modelog.predict(x_teste), rownames=['Real'], colnames=['DTC c/ gini'], margins=True))\n",
    "print(\"\\n\")\n",
    "print(pd.crosstab(y_teste, modelom.predict(x_teste), rownames=['Real'], colnames=['Multinomial'], margins=True))\n",
    "print(\"\\n\")\n",
    "print(pd.crosstab(y_teste, modelob.predict(x_teste), rownames=['Real'], colnames=['Bernoulli'], margins=True))\n",
    "print(\"\\n\")\n",
    "print(pd.crosstab(y_teste, clf.predict(x_teste), rownames=['Real'], colnames=['LinearSVC'], margins=True))\n",
    "print(\"\\n\")\n",
    "# confusion_matrix(y_teste, model.predict(x_teste))\n",
    "# print(pd.crosstab(y_teste, modelot.predict(x_teste), rownames=['Real'], colnames=['Predito T'], margins=True))\n",
    "# print(\"\\n\")\n",
    "# print(pd.crosstab(y_teste, modelog.predict(x_teste), rownames=['Real'], colnames=['Predito G'], margins=True))\n",
    "# print(\"\\n\")\n",
    "# print(pd.crosstab(y_teste, modelom.predict(x_teste), rownames=['Real'], colnames=['Predito M'], margins=True))\n",
    "# print(\"\\n\")\n",
    "# print(pd.crosstab(y_teste, modelob.predict(x_teste), rownames=['Real'], colnames=['Predito B'], margins=True))\n",
    "\n",
    "\n",
    "# c. Avalie as métricas de acurácia, precisão e recall;\n",
    "# d. Analise pelo menos mais duas métricas;\n",
    "# e. Justifique os resultados.\n"
   ]
  },
  {
   "cell_type": "code",
   "execution_count": 67,
   "metadata": {},
   "outputs": [
    {
     "data": {
      "image/png": "[encoded data removed]",
      "text/plain": [
       "<Figure size 432x288 with 2 Axes>"
      ]
     },
     "metadata": {
      "needs_background": "light"
     },
     "output_type": "display_data"
    }
   ],
   "source": [
    "correlations = b.corr()\n",
    "fig = plt.figure()\n",
    "ax = fig.add_subplot(111)\n",
    "cax = ax.matshow(correlations, vmin=-1, vmax=1)\n",
    "fig.colorbar(cax)\n",
    "ticks = np.arange(0,9,1)\n",
    "ax.set_xticks(ticks)\n",
    "ax.set_yticks(ticks)\n",
    "ax.set_xticklabels(names)\n",
    "ax.set_yticklabels(names)\n",
    "plt.show()"
   ]
  },
  {
   "cell_type": "markdown",
   "metadata": {},
   "source": [
    "correlations = x.corr()\n",
    "print(correlations)\n",
    "fig = plt.figure()\n",
    "ax = fig.add_subplot(111)\n",
    "cax = ax.matshow(correlations, vmin=-1, vmax=1)\n",
    "fig.colorbar(cax)\n",
    "ticks = numpy.arange(0,9,1)\n",
    "ax.set_xticks(ticks)\n",
    "ax.set_yticks(ticks)\n",
    "ax.set_xticklabels(names)\n",
    "ax.set_yticklabels(names)\n",
    "plt.show()"
   ]
  },
  {
   "cell_type": "code",
   "execution_count": 1,
   "metadata": {},
   "outputs": [],
   "source": [
    "# from arff2pandas import a2p\n",
    "# with open('Autism-Child-Data.arff') as f:\n",
    "#     df = a2p.load(f)\n",
    "# df.head(3)\n",
    "# filtered_df = df[(df['austim@{no,yes}'] == 'yes') & (df['result@NUMERIC'] >= 5)].filter(like='austim').count()\n",
    "# filtered_df"
   ]
  },
  {
   "cell_type": "code",
   "execution_count": null,
   "metadata": {},
   "outputs": [],
   "source": []
  }
 ],
 "metadata": {
  "kernelspec": {
   "display_name": "Python 3",
   "language": "python",
   "name": "python3"
  },
  "language_info": {
   "codemirror_mode": {
    "name": "ipython",
    "version": 3
   },
   "file_extension": ".py",
   "mimetype": "text/x-python",
   "name": "python",
   "nbconvert_exporter": "python",
   "pygments_lexer": "ipython3",
   "version": "3.6.7"
  }
 },
 "nbformat": 4,
 "nbformat_minor": 2
}
