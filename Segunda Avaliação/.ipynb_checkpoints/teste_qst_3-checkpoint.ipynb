{
 "cells": [
  {
   "cell_type": "code",
   "execution_count": null,
   "metadata": {},
   "outputs": [],
   "source": [
    "%matplotlib inline\n",
    "import scipy as sp\n",
    "import pandas as pd\n",
    "import matplotlib.pyplot as plt\n",
    "import statsmodels.formula.api as sm\n",
    "\n",
    "x1 = sp.random.normal(size=100)\n",
    "x2 = sp.random.normal(size=100)\n",
    "x3 = sp.random.normal(size=100)\n",
    "x4 = sp.random.normal(size=100)\n",
    "categoria = sp.random.binomial(n=1, p=.5, size=100)\n",
    "erro = sp.random.normal(size=100)\n",
    "y = 3 + 2*x1 + 0.65*x2 + 3.14*x3 - 1.75*x4 + 1.5*categoria + erro\n",
    "dic = {\"y\":y, \"x1\":x1, \"x2\":x2, \"x3\":x3, \"x4\":x4, \"categoria\":categoria}\n",
    "dados = pd.DataFrame(data=dic)\n",
    "\n",
    "dados"
   ]
  },
  {
   "cell_type": "code",
   "execution_count": null,
   "metadata": {},
   "outputs": [],
   "source": []
  },
  {
   "cell_type": "code",
   "execution_count": null,
   "metadata": {},
   "outputs": [],
   "source": []
  }
 ],
 "metadata": {
  "kernelspec": {
   "display_name": "Python 3",
   "language": "python",
   "name": "python3"
  }
 },
 "nbformat": 4,
 "nbformat_minor": 2
}
