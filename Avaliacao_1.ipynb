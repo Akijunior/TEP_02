{
 "cells": [
  {
   "cell_type": "code",
   "execution_count": 1,
   "metadata": {},
   "outputs": [],
   "source": [
    "import requests\n",
    "from bs4 import BeautifulSoup\n",
    "def download(url, num_retries=2):\n",
    "    print('Downloading:', url)\n",
    "    page = None\n",
    "    try:\n",
    "        response = requests.get(url)\n",
    "        page = response.text\n",
    "        if response.status_code >= 400:\n",
    "            print('Download error:', response.text)\n",
    "            if num_retries and 500 <= response.status_code < 600:\n",
    "                return download(url, num_retries - 1)\n",
    "    except requests.exceptions.RequestException as e:\n",
    "        print('Download error:', e.reason)\n",
    "    return page"
   ]
  },
  {
   "cell_type": "code",
   "execution_count": 2,
   "metadata": {},
   "outputs": [
    {
     "name": "stdout",
     "output_type": "stream",
     "text": [
      "Downloading: http://www.tce.pi.gov.br/\n",
      "\n",
      "\n",
      "\n",
      "\n",
      "\n",
      "http://www.tce.pi.gov.br/tce-recomenda-reprovacao-das-contas-de-governo-de-olho-dagua-do-piaui/\n",
      "http://www.tce.pi.gov.br/aviso-plenario-adiamento-da-sessao-de-julgamento-no-dia-18-10-2018/\n",
      "http://www.tce.pi.gov.br/aviso-primeira-camara-nao-realizacao-de-sessao-de-julgamento-no-dia-16-10-2018/\n",
      "http://www.tce.pi.gov.br/conselheira-waltania-alvarenga-convoca-reuniao-de-comissao-no-tce-pi/\n",
      "http://www.tce.pi.gov.br/entidades-de-controle-externo-do-brasil-e-argentina-firmam-acordo-de-cooperacao/\n"
     ]
    }
   ],
   "source": [
    "# 1 A\n",
    "url = 'http://www.tce.pi.gov.br/'\n",
    "html = download(url)\n",
    "\n",
    "soup = BeautifulSoup(html, 'html.parser')\n",
    "tr = soup.find(attrs={'id':'latestnews'})\n",
    "td = tr.find_all(attrs={'class':'latestnews'})\n",
    "link = tr.find_all('li', attrs={'class':'latestnews'})\n",
    "cinco_titulos = []\n",
    "cinco_links = []\n",
    "\n",
    "for i in range(5):    \n",
    "    print()\n",
    "    cinco_titulos.append(td[i].text)\n",
    "    cinco_links.append(link[i].find('a')['href'])\n",
    "\n",
    "for i in cinco_links:\n",
    "    print(i)"
   ]
  },
  {
   "cell_type": "code",
   "execution_count": null,
   "metadata": {},
   "outputs": [],
   "source": [
    "# 1 B a D\n",
    "def menu():\n",
    "    a = int(input(\"Digite um valor de 1 a 6: \"))\n",
    "    while (a != 6):\n",
    "        if(a > 0 and a < 6):\n",
    "            html = download(cinco_links[a])\n",
    "            soup = BeautifulSoup(html, 'html.parser')\n",
    "            tr = soup.find('div', attrs={'id':'post-19845'})\n",
    "            td = tr.find_all('div', attrs={'class':'the_post post_content'})\n",
    "            print(td[i].text)\n",
    "        else:\n",
    "            print(\"Digite um valor entre 1 e 6 e tente novamente.\")\n",
    "        a = int(input(\"Digite um novo valor de 1 a 6: \"))    \n",
    "    print(\"Voce deslogou.\")\n",
    "menu()"
   ]
  },
  {
   "cell_type": "code",
   "execution_count": null,
   "metadata": {},
   "outputs": [],
   "source": [
    "import pandas as pd\n",
    "\n",
    "# Letra A\n",
    "\n",
    "df = pd.read_csv('train.csv')\n",
    "df"
   ]
  },
  {
   "cell_type": "code",
   "execution_count": null,
   "metadata": {},
   "outputs": [],
   "source": [
    "from sklearn.naive_bayes import MultinomialNB\n",
    "from sklearn.model_selection import train_test_split\n",
    "\n",
    "# Letra B\n",
    "\n",
    "sobreviventes = df[df['Survived'] == 1]\n",
    "perc = len(sobreviventes)/len(df)\n",
    "print(perc)"
   ]
  },
  {
   "cell_type": "code",
   "execution_count": null,
   "metadata": {},
   "outputs": [],
   "source": [
    "# Letra C\n",
    "a = df[df['Sex'] == 'female']\n",
    "for i in range(1, 4):\n",
    "    perc = (len(a[df['Pclass'] == i])/len(sobreviventes)) * 100\n",
    "    print(\"Percentual sobreviventes mulheres classe %d: %.2f %%.\" % (i, perc))"
   ]
  },
  {
   "cell_type": "code",
   "execution_count": null,
   "metadata": {},
   "outputs": [],
   "source": [
    "# Letra D\n",
    "c = df[df['Embarked'].isnull() == True]\n",
    "for i in range(len(c)):\n",
    "    print(\"Foi deletada a linha de indice %d.\" % c.index[i])\n",
    "    df.drop(df.index[c.index[i]])"
   ]
  },
  {
   "cell_type": "code",
   "execution_count": null,
   "metadata": {},
   "outputs": [],
   "source": [
    "# Letra E\n",
    "y = df['Sex']\n",
    "y = y.map({'male': 1, 'female': 0})"
   ]
  },
  {
   "cell_type": "code",
   "execution_count": null,
   "metadata": {},
   "outputs": [],
   "source": [
    "# Letra F\n",
    "df['FamilySize'] = df['SibSp'] + df['Parch'] + 1 \n",
    "df['IsAlone'] = df['FamilySize']\n",
    "for i in range(len(df['FamilySize'])):\n",
    "    if (df['FamilySize'][i] > 1):\n",
    "        df['IsAlone'][i] = 1\n",
    "    else:\n",
    "        df['IsAlone'][i] = 0\n",
    "df['IsAlone']"
   ]
  },
  {
   "cell_type": "code",
   "execution_count": null,
   "metadata": {},
   "outputs": [],
   "source": [
    "# Letra G\n",
    "df['Embarqued'] = pd.get_dummies(df['Embarqued'])"
   ]
  },
  {
   "cell_type": "code",
   "execution_count": null,
   "metadata": {},
   "outputs": [],
   "source": [
    "# Letra H Crie o dataframe x com as colunas: Sex, IsAlone, Embarqued, PClass e o dataframe y com a coluna survived \n",
    "x = df[['Sex', 'IsAlone', 'Embarked', 'PClass']]\n",
    "y = df['Survived'].map({'male': 1, 'female': 0})"
   ]
  },
  {
   "cell_type": "code",
   "execution_count": null,
   "metadata": {},
   "outputs": [],
   "source": [
    "# Letra I Treine o modelo com 80% de dados para treino e 20% para teste e execute o algoritmo. Imprima o score\n",
    "x_treino, x_teste, y_treino, y_teste = train_test_split(x, y, test_size = 0.20, random_state=0)"
   ]
  },
  {
   "cell_type": "code",
   "execution_count": null,
   "metadata": {},
   "outputs": [],
   "source": [
    "# Letra J A coluna PClass possui valores distindos, pesquise se: \n",
    "# a. Retirá-la influi no score;\n",
    "# b. Se transformá-la em variáveis categóricas tipo ‘A’,’B’, ‘C’ e gerar “dummies influi no score \n",
    "df['PClass'].map({'class1': 'A', 'class2': 'B', 'class3': 'C'})\n",
    "df['PClass'] = pd.get_dummies(df['PClass'])\n",
    "# Resposta (A): Influencia sim. Pois possui 3 opções que dificultam a percepção binária do algoritmo e ao retirá-la\n",
    "# reduziria a complexidade com que o algoritmo precisaria lidar.\n",
    "# Resposta (B): Influencia."
   ]
  }
 ],
 "metadata": {
  "kernelspec": {
   "display_name": "Python 3",
   "language": "python",
   "name": "python3"
  },
  "language_info": {
   "codemirror_mode": {
    "name": "ipython",
    "version": 3
   },
   "file_extension": ".py",
   "mimetype": "text/x-python",
   "name": "python",
   "nbconvert_exporter": "python",
   "pygments_lexer": "ipython3",
   "version": "3.6.5"
  }
 },
 "nbformat": 4,
 "nbformat_minor": 2
}
